{
 "cells": [
  {
   "cell_type": "markdown",
   "metadata": {
    "colab_type": "text",
    "id": "ooTIJVCs_8rB"
   },
   "source": [
    "<h2> CNN with 1 Convolutional Layer - Validation Set to Reduce Overfitting </h2>"
   ]
  },
  {
   "cell_type": "markdown",
   "metadata": {
    "colab_type": "text",
    "id": "C0hTNCIpyqB6"
   },
   "source": [
    "<p>https://stats.stackexchange.com/questions/283631/how-to-correctly-use-validation-and-test-sets-for-neural-network-training</p>"
   ]
  },
  {
   "cell_type": "code",
   "execution_count": 0,
   "metadata": {
    "colab": {},
    "colab_type": "code",
    "id": "_-Z1ogte_oBF"
   },
   "outputs": [],
   "source": [
    "import glob\n",
    "import math\n",
    "import matplotlib.image as mpimg\n",
    "import matplotlib.pyplot as plt\n",
    "import numpy as np\n",
    "import random\n",
    "import sklearn.metrics as metrics\n",
    "\n",
    "from tensorflow.keras import optimizers\n",
    "from tensorflow.keras.callbacks import ModelCheckpoint, CSVLogger, LearningRateScheduler\n",
    "from tensorflow.keras.models import Model,Sequential\n",
    "from tensorflow.keras.preprocessing.image import ImageDataGenerator\n",
    "from tensorflow.keras.layers import add, concatenate, Conv2D, Dense, Dropout, Flatten, Input\n",
    "from tensorflow.keras.layers import Activation, AveragePooling2D, BatchNormalization, MaxPooling2D\n",
    "from tensorflow.keras.regularizers import l2\n",
    "from tensorflow.keras.utils import to_categorical\n",
    "\n",
    "from sklearn.model_selection import train_test_split"
   ]
  },
  {
   "cell_type": "code",
   "execution_count": 2,
   "metadata": {
    "colab": {
     "base_uri": "https://localhost:8080/",
     "height": 126
    },
    "colab_type": "code",
    "executionInfo": {
     "elapsed": 115493,
     "status": "ok",
     "timestamp": 1569739287212,
     "user": {
      "displayName": "D Meirong",
      "photoUrl": "https://lh3.googleusercontent.com/a-/AAuE7mDiaGPg7iox3RNjLk5fsQm8ZIF3UAOud5pIvPtjyg=s64",
      "userId": "16646563330135327635"
     },
     "user_tz": -480
    },
    "id": "Exz2zGJ0AEGD",
    "outputId": "136a87f7-20c0-48e1-cb6b-a99d4a71ca7d"
   },
   "outputs": [
    {
     "name": "stdout",
     "output_type": "stream",
     "text": [
      "Go to this URL in a browser: https://accounts.google.com/o/oauth2/auth?client_id=947318989803-6bn6qk8qdgf4n4g3pfee6491hc0brc4i.apps.googleusercontent.com&redirect_uri=urn%3Aietf%3Awg%3Aoauth%3A2.0%3Aoob&scope=email%20https%3A%2F%2Fwww.googleapis.com%2Fauth%2Fdocs.test%20https%3A%2F%2Fwww.googleapis.com%2Fauth%2Fdrive%20https%3A%2F%2Fwww.googleapis.com%2Fauth%2Fdrive.photos.readonly%20https%3A%2F%2Fwww.googleapis.com%2Fauth%2Fpeopleapi.readonly&response_type=code\n",
      "\n",
      "Enter your authorization code:\n",
      "··········\n",
      "Mounted at /content/gdrive\n"
     ]
    }
   ],
   "source": [
    "from google.colab import drive\n",
    "drive.mount('/content/gdrive')"
   ]
  },
  {
   "cell_type": "code",
   "execution_count": 0,
   "metadata": {
    "colab": {},
    "colab_type": "code",
    "id": "nEFDz4iPAlE2"
   },
   "outputs": [],
   "source": [
    "root_path = 'gdrive/My Drive/Colab Notebooks/'  #change dir to your project folder"
   ]
  },
  {
   "cell_type": "code",
   "execution_count": 4,
   "metadata": {
    "colab": {
     "base_uri": "https://localhost:8080/",
     "height": 52
    },
    "colab_type": "code",
    "executionInfo": {
     "elapsed": 123822,
     "status": "ok",
     "timestamp": 1569739295582,
     "user": {
      "displayName": "D Meirong",
      "photoUrl": "https://lh3.googleusercontent.com/a-/AAuE7mDiaGPg7iox3RNjLk5fsQm8ZIF3UAOud5pIvPtjyg=s64",
      "userId": "16646563330135327635"
     },
     "user_tz": -480
    },
    "id": "4i6v4kSgApZF",
    "outputId": "b39a3c7c-3fdf-49c1-90ce-9f7525059892"
   },
   "outputs": [
    {
     "name": "stdout",
     "output_type": "stream",
     "text": [
      "For the training and test datasets:\n",
      "The shapes are (4264, 224, 224, 3), (4264,), (1067, 224, 224, 3), (1067,)\n"
     ]
    }
   ],
   "source": [
    "trDatOrg       = np.load(root_path + 'Flower_Power/flrnonflr-train-imgs224-0.8.npz')['arr_0']\n",
    "trLblOrg       = np.load(root_path + 'Flower_Power/flrnonflr-train-labels224-0.8.npz')['arr_0']\n",
    "tsDatOrg       = np.load(root_path + 'Flower_Power/flrnonflr-test-imgs224-0.8.npz')['arr_0']\n",
    "tsLblOrg       = np.load(root_path + 'Flower_Power/flrnonflr-test-labels224-0.8.npz')['arr_0']\n",
    "\n",
    "print(\"For the training and test datasets:\")\n",
    "print(\"The shapes are %s, %s, %s, %s\" \\\n",
    "      %(trDatOrg.shape, trLblOrg.shape, tsDatOrg.shape, tsLblOrg.shape))"
   ]
  },
  {
   "cell_type": "code",
   "execution_count": 5,
   "metadata": {
    "colab": {
     "base_uri": "https://localhost:8080/",
     "height": 1000,
     "output_embedded_package_id": "1zxrADy9N9gM3A1-maotk6jHQFcgaZmMb"
    },
    "colab_type": "code",
    "executionInfo": {
     "elapsed": 143399,
     "status": "ok",
     "timestamp": 1569739315197,
     "user": {
      "displayName": "D Meirong",
      "photoUrl": "https://lh3.googleusercontent.com/a-/AAuE7mDiaGPg7iox3RNjLk5fsQm8ZIF3UAOud5pIvPtjyg=s64",
      "userId": "16646563330135327635"
     },
     "user_tz": -480
    },
    "id": "qjEc01oBCtRw",
    "outputId": "fe4d905a-d6fc-46d0-c085-44e7f6cecd1e"
   },
   "outputs": [
    {
     "data": {
      "text/plain": [
       "Output hidden; open in https://colab.research.google.com to view."
      ]
     },
     "metadata": {},
     "output_type": "display_data"
    }
   ],
   "source": [
    "# Randomly show 10 examples of the images\n",
    "\n",
    "data = tsDatOrg\n",
    "label = tsLblOrg\n",
    "\n",
    "for i in range(20):\n",
    "    index = random.randint(0, len(data)-1)\n",
    "    print(\"Showing %s index image, It is %s\" %(index, label[index]))\n",
    "    imgplot = plt.imshow(data[index])\n",
    "    plt.show()"
   ]
  },
  {
   "cell_type": "code",
   "execution_count": 0,
   "metadata": {
    "colab": {},
    "colab_type": "code",
    "id": "mn3krgBCC7kc"
   },
   "outputs": [],
   "source": [
    "# Convert the data into 'float32'\n",
    "# Rescale the values from 0~255 to 0~1\n",
    "trDat       = trDatOrg.astype('float32')/255\n",
    "tsDat       = tsDatOrg.astype('float32')/255\n",
    "\n",
    "# Retrieve the row size of each image\n",
    "# Retrieve the column size of each image\n",
    "imgrows     = trDat.shape[1]\n",
    "imgclms     = trDat.shape[2]\n",
    "channel     = 3\n",
    "\n",
    "# Perform one hot encoding on the labels\n",
    "# Retrieve the number of classes in this problem\n",
    "trLbl       = to_categorical(trLblOrg)\n",
    "tsLbl       = to_categorical(tsLblOrg)\n",
    "num_classes = tsLbl.shape[1]"
   ]
  },
  {
   "cell_type": "code",
   "execution_count": 0,
   "metadata": {
    "colab": {},
    "colab_type": "code",
    "id": "fpo1pk4FHEVV"
   },
   "outputs": [],
   "source": [
    "# Split original training data to sub-training (80%) and validation data (20%)\n",
    "X_train, X_val, y_train, y_val = train_test_split(trDat, trLbl, test_size=0.2, random_state=13)"
   ]
  },
  {
   "cell_type": "code",
   "execution_count": 0,
   "metadata": {
    "colab": {},
    "colab_type": "code",
    "id": "9t3ISbl3JOSl"
   },
   "outputs": [],
   "source": [
    "# X_test forms the test images, and y_test forms the test labels\n",
    "X_test = tsDat \n",
    "y_test = tsLbl \n"
   ]
  },
  {
   "cell_type": "markdown",
   "metadata": {
    "colab_type": "text",
    "id": "MFNlWAt6DrT7"
   },
   "source": [
    "<h2> Define Model </h2>"
   ]
  },
  {
   "cell_type": "markdown",
   "metadata": {
    "colab_type": "text",
    "id": "MBnssrsNES2s"
   },
   "source": [
    "<p>The 1st layer is a Conv2D layer for the convolution operation that extracts features from the input images by sliding a convolution filter over the input to produce a feature map. Here I choose feature map with size 3 x 3.\n",
    "  \n",
    "The 2nd layer is a MaxPooling2D layer for the max-pooling operation that reduces the dimensionality of each feature, which helps shorten training time and reduce number of parameters. Here I choose the pooling window with size 2 x 2.\n",
    "  \n",
    "The next step is to feed the last output tensor into a stack of Dense layers, otherwise known as fully-connected layers. These densely connected classifiers process vectors, which are 1D, whereas the current output is a 3D tensor. Thus, I need to flatten the 3D outputs to 1D, and then add 2 Dense layers on top.\n",
    "  \n",
    "I do a 2-way classification (as there are flowers and non-flowers), using a final layer with 2 outputs and a softmax activation. Softmax activation enables me to calculate the output based on the probabilities. Each class is assigned a probability and the class with the maximum probability is the model’s output for the input. <p>"
   ]
  },
  {
   "cell_type": "code",
   "execution_count": 9,
   "metadata": {
    "colab": {
     "base_uri": "https://localhost:8080/",
     "height": 446
    },
    "colab_type": "code",
    "executionInfo": {
     "elapsed": 143359,
     "status": "ok",
     "timestamp": 1569739315213,
     "user": {
      "displayName": "D Meirong",
      "photoUrl": "https://lh3.googleusercontent.com/a-/AAuE7mDiaGPg7iox3RNjLk5fsQm8ZIF3UAOud5pIvPtjyg=s64",
      "userId": "16646563330135327635"
     },
     "user_tz": -480
    },
    "id": "nYeOqn1VvUUD",
    "outputId": "609a35f3-f805-476b-eee6-86b09f72e60b"
   },
   "outputs": [
    {
     "name": "stdout",
     "output_type": "stream",
     "text": [
      "WARNING:tensorflow:From /usr/local/lib/python3.6/dist-packages/tensorflow/python/ops/init_ops.py:1251: calling VarianceScaling.__init__ (from tensorflow.python.ops.init_ops) with dtype is deprecated and will be removed in a future version.\n",
      "Instructions for updating:\n",
      "Call initializer instance with the dtype argument instead of passing it to the constructor\n",
      "Model: \"model\"\n",
      "_________________________________________________________________\n",
      "Layer (type)                 Output Shape              Param #   \n",
      "=================================================================\n",
      "input_1 (InputLayer)         [(None, 224, 224, 3)]     0         \n",
      "_________________________________________________________________\n",
      "conv2d (Conv2D)              (None, 224, 224, 32)      896       \n",
      "_________________________________________________________________\n",
      "max_pooling2d (MaxPooling2D) (None, 112, 112, 32)      0         \n",
      "_________________________________________________________________\n",
      "flatten (Flatten)            (None, 401408)            0         \n",
      "_________________________________________________________________\n",
      "dense (Dense)                (None, 128)               51380352  \n",
      "_________________________________________________________________\n",
      "dense_1 (Dense)              (None, 2)                 258       \n",
      "=================================================================\n",
      "Total params: 51,381,506\n",
      "Trainable params: 51,381,506\n",
      "Non-trainable params: 0\n",
      "_________________________________________________________________\n"
     ]
    }
   ],
   "source": [
    "# fix random seed for reproducibility\n",
    "seed = 29\n",
    "np.random.seed(seed)\n",
    "\n",
    "modelname = 'FlowerPower_Base'\n",
    "\n",
    "def createBaseModel():\n",
    "  inputs = Input(shape=(imgrows, imgclms, channel))\n",
    "  x = Conv2D(32, (3, 3), padding='same', activation='relu')(inputs)\n",
    "  x = MaxPooling2D(pool_size=(2, 2))(x)\n",
    "  \n",
    "  x = Flatten()(x)\n",
    "  \n",
    "  x = Dense(128, activation='relu')(x)\n",
    "  x = Dense(num_classes, activation='softmax')(x)\n",
    "  \n",
    "  model = Model(inputs=[inputs],outputs=x)\n",
    "  \n",
    "  model.compile(loss='categorical_crossentropy', \n",
    "                  optimizer='adam',\n",
    "                  metrics=['accuracy'])\n",
    "  \n",
    "  return model\n",
    "  \n",
    "model = createBaseModel()\n",
    "modelGo = createBaseModel()\n",
    "\n",
    "model.summary()"
   ]
  },
  {
   "cell_type": "markdown",
   "metadata": {
    "colab_type": "text",
    "id": "hm0keHs1MZSj"
   },
   "source": [
    "<h2> Training the Model </h2>"
   ]
  },
  {
   "cell_type": "markdown",
   "metadata": {
    "colab_type": "text",
    "id": "tCF00XhPMdHt"
   },
   "source": [
    "<p>I train the model with batch size of 64 and 20 epochs on both training and validation data. </p>"
   ]
  },
  {
   "cell_type": "code",
   "execution_count": 10,
   "metadata": {
    "colab": {
     "base_uri": "https://localhost:8080/",
     "height": 746
    },
    "colab_type": "code",
    "executionInfo": {
     "elapsed": 287144,
     "status": "ok",
     "timestamp": 1569739459010,
     "user": {
      "displayName": "D Meirong",
      "photoUrl": "https://lh3.googleusercontent.com/a-/AAuE7mDiaGPg7iox3RNjLk5fsQm8ZIF3UAOud5pIvPtjyg=s64",
      "userId": "16646563330135327635"
     },
     "user_tz": -480
    },
    "id": "9cORbjzKMI_F",
    "outputId": "a3beb535-92c2-4c59-e769-1605117b819a"
   },
   "outputs": [
    {
     "name": "stdout",
     "output_type": "stream",
     "text": [
      "Train on 3411 samples, validate on 853 samples\n",
      "Epoch 1/20\n",
      "3411/3411 [==============================] - 11s 3ms/sample - loss: 5.5702 - acc: 0.5969 - val_loss: 0.5790 - val_acc: 0.7175\n",
      "Epoch 2/20\n",
      "3411/3411 [==============================] - 7s 2ms/sample - loss: 0.5193 - acc: 0.7608 - val_loss: 0.4806 - val_acc: 0.7948\n",
      "Epoch 3/20\n",
      "3411/3411 [==============================] - 7s 2ms/sample - loss: 0.3381 - acc: 0.8660 - val_loss: 0.4554 - val_acc: 0.7995\n",
      "Epoch 4/20\n",
      "3411/3411 [==============================] - 7s 2ms/sample - loss: 0.1650 - acc: 0.9452 - val_loss: 0.4644 - val_acc: 0.8218\n",
      "Epoch 5/20\n",
      "3411/3411 [==============================] - 7s 2ms/sample - loss: 0.0660 - acc: 0.9848 - val_loss: 0.4070 - val_acc: 0.8370\n",
      "Epoch 6/20\n",
      "3411/3411 [==============================] - 7s 2ms/sample - loss: 0.0296 - acc: 0.9944 - val_loss: 0.6325 - val_acc: 0.8159\n",
      "Epoch 7/20\n",
      "3411/3411 [==============================] - 7s 2ms/sample - loss: 0.0201 - acc: 0.9977 - val_loss: 0.5499 - val_acc: 0.8335\n",
      "Epoch 8/20\n",
      "3411/3411 [==============================] - 7s 2ms/sample - loss: 0.0096 - acc: 0.9991 - val_loss: 0.6197 - val_acc: 0.8359\n",
      "Epoch 9/20\n",
      "3411/3411 [==============================] - 7s 2ms/sample - loss: 0.0228 - acc: 0.9974 - val_loss: 0.5455 - val_acc: 0.8335\n",
      "Epoch 10/20\n",
      "3411/3411 [==============================] - 7s 2ms/sample - loss: 0.0116 - acc: 0.9991 - val_loss: 0.6008 - val_acc: 0.8394\n",
      "Epoch 11/20\n",
      "3411/3411 [==============================] - 7s 2ms/sample - loss: 0.0058 - acc: 0.9997 - val_loss: 0.6338 - val_acc: 0.8429\n",
      "Epoch 12/20\n",
      "3411/3411 [==============================] - 7s 2ms/sample - loss: 0.0039 - acc: 0.9997 - val_loss: 0.7040 - val_acc: 0.8288\n",
      "Epoch 13/20\n",
      "3411/3411 [==============================] - 7s 2ms/sample - loss: 0.0050 - acc: 0.9997 - val_loss: 0.6525 - val_acc: 0.8394\n",
      "Epoch 14/20\n",
      "3411/3411 [==============================] - 7s 2ms/sample - loss: 0.0016 - acc: 0.9997 - val_loss: 0.6643 - val_acc: 0.8429\n",
      "Epoch 15/20\n",
      "3411/3411 [==============================] - 7s 2ms/sample - loss: 0.0037 - acc: 0.9997 - val_loss: 0.6893 - val_acc: 0.8429\n",
      "Epoch 16/20\n",
      "3411/3411 [==============================] - 7s 2ms/sample - loss: 0.0023 - acc: 0.9994 - val_loss: 0.6894 - val_acc: 0.8406\n",
      "Epoch 17/20\n",
      "3411/3411 [==============================] - 7s 2ms/sample - loss: 0.0015 - acc: 0.9997 - val_loss: 0.7131 - val_acc: 0.8441\n",
      "Epoch 18/20\n",
      "3411/3411 [==============================] - 7s 2ms/sample - loss: 0.0017 - acc: 0.9994 - val_loss: 0.7293 - val_acc: 0.8394\n",
      "Epoch 19/20\n",
      "3411/3411 [==============================] - 7s 2ms/sample - loss: 0.0012 - acc: 0.9997 - val_loss: 0.7064 - val_acc: 0.8429\n",
      "Epoch 20/20\n",
      "3411/3411 [==============================] - 7s 2ms/sample - loss: 0.0016 - acc: 0.9997 - val_loss: 0.7388 - val_acc: 0.8370\n"
     ]
    }
   ],
   "source": [
    "# Fit the model\n",
    "# This is where the training starts\n",
    "history = model.fit(X_train, y_train,\n",
    "          batch_size=64,\n",
    "          epochs=20,\n",
    "          verbose=1,\n",
    "          validation_data=(X_val, y_val))"
   ]
  },
  {
   "cell_type": "code",
   "execution_count": 11,
   "metadata": {
    "colab": {
     "base_uri": "https://localhost:8080/",
     "height": 52
    },
    "colab_type": "code",
    "executionInfo": {
     "elapsed": 291981,
     "status": "ok",
     "timestamp": 1569739463863,
     "user": {
      "displayName": "D Meirong",
      "photoUrl": "https://lh3.googleusercontent.com/a-/AAuE7mDiaGPg7iox3RNjLk5fsQm8ZIF3UAOud5pIvPtjyg=s64",
      "userId": "16646563330135327635"
     },
     "user_tz": -480
    },
    "id": "QvDc5pslUCGw",
    "outputId": "52bbb011-f75c-4e99-d1f8-c88ea2882f6b"
   },
   "outputs": [
    {
     "name": "stdout",
     "output_type": "stream",
     "text": [
      "Test loss: 0.8618111646722831\n",
      "Test accuracy: 0.8444236\n"
     ]
    }
   ],
   "source": [
    "score = model.evaluate(X_test, y_test, verbose=0)\n",
    "print('Test loss:', score[0])\n",
    "print('Test accuracy:', score[1])"
   ]
  },
  {
   "cell_type": "markdown",
   "metadata": {
    "colab_type": "text",
    "id": "5-aueAqqlUZ7"
   },
   "source": [
    "<h2> Data Augmentation </h2>"
   ]
  },
  {
   "cell_type": "markdown",
   "metadata": {
    "colab_type": "text",
    "id": "IkzJeIhclgub"
   },
   "source": [
    "This section tests the usefulness of data augmentation in reducing overfitting. \n",
    "\n",
    "Data augmentation takes the approach of generating more training data from existing training samples, by augmenting the samples via a number of random transformations that yield believable-looking images. The goal is that at training time, the model will never see the exact same picture twice. This helps expose the model to more aspects of the data and generalize better.\n",
    "\n",
    "In Keras, this can be done by configuring a number of random transformations to be performed on the images read by the ImageDataGenerator instance.\n",
    "\n",
    "1. rotation_range is a value in degrees (0–180), a range within which to randomly rotate pictures.\n",
    "2. width_shift and height_shift are ranges (as a fraction of total width or height) within which to randomly translate pictures vertically or horizontally.\n",
    "3. shear_range is for randomly applying shearing transformations.\n",
    "4. zoom_range is for randomly zooming inside pictures."
   ]
  },
  {
   "cell_type": "code",
   "execution_count": 12,
   "metadata": {
    "colab": {
     "base_uri": "https://localhost:8080/",
     "height": 35
    },
    "colab_type": "code",
    "executionInfo": {
     "elapsed": 291970,
     "status": "ok",
     "timestamp": 1569739463864,
     "user": {
      "displayName": "D Meirong",
      "photoUrl": "https://lh3.googleusercontent.com/a-/AAuE7mDiaGPg7iox3RNjLk5fsQm8ZIF3UAOud5pIvPtjyg=s64",
      "userId": "16646563330135327635"
     },
     "user_tz": -480
    },
    "id": "dwr_tDjNmVPW",
    "outputId": "f50eddec-d748-4dec-8845-e9e8917916dd"
   },
   "outputs": [
    {
     "name": "stderr",
     "output_type": "stream",
     "text": [
      "Using TensorFlow backend.\n"
     ]
    }
   ],
   "source": [
    "from keras.preprocessing.image import ImageDataGenerator\n",
    "\n",
    "gen = ImageDataGenerator(rotation_range=8, width_shift_range=0.08, shear_range=0.3,\n",
    "                               height_shift_range=0.08, zoom_range=0.08)\n",
    "\n",
    "batches = gen.flow(X_train, y_train, batch_size=64)\n",
    "val_batches = gen.flow(X_val, y_val, batch_size=64)"
   ]
  },
  {
   "cell_type": "code",
   "execution_count": 13,
   "metadata": {
    "colab": {
     "base_uri": "https://localhost:8080/",
     "height": 728
    },
    "colab_type": "code",
    "executionInfo": {
     "elapsed": 894399,
     "status": "ok",
     "timestamp": 1569740492220,
     "user": {
      "displayName": "D Meirong",
      "photoUrl": "https://lh3.googleusercontent.com/a-/AAuE7mDiaGPg7iox3RNjLk5fsQm8ZIF3UAOud5pIvPtjyg=s64",
      "userId": "16646563330135327635"
     },
     "user_tz": -480
    },
    "id": "l5TB7-2smyqw",
    "outputId": "f79b4cd1-40eb-475b-d6f0-caab62c01936"
   },
   "outputs": [
    {
     "name": "stdout",
     "output_type": "stream",
     "text": [
      "Epoch 1/20\n",
      "53/53 [==============================] - 53s 1s/step - loss: 0.4708 - acc: 0.8010 - val_loss: 0.4629 - val_acc: 0.8173\n",
      "Epoch 2/20\n",
      "53/53 [==============================] - 53s 1s/step - loss: 0.3505 - acc: 0.8544 - val_loss: 0.4094 - val_acc: 0.8149\n",
      "Epoch 3/20\n",
      "53/53 [==============================] - 53s 995ms/step - loss: 0.3206 - acc: 0.8652 - val_loss: 0.3928 - val_acc: 0.8233\n",
      "Epoch 4/20\n",
      "53/53 [==============================] - 53s 995ms/step - loss: 0.3018 - acc: 0.8724 - val_loss: 0.4101 - val_acc: 0.8281\n",
      "Epoch 5/20\n",
      "53/53 [==============================] - 53s 996ms/step - loss: 0.2871 - acc: 0.8775 - val_loss: 0.3753 - val_acc: 0.8438\n",
      "Epoch 6/20\n",
      "53/53 [==============================] - 53s 994ms/step - loss: 0.2661 - acc: 0.8865 - val_loss: 0.3380 - val_acc: 0.8534\n",
      "Epoch 7/20\n",
      "53/53 [==============================] - 52s 977ms/step - loss: 0.2751 - acc: 0.8913 - val_loss: 0.3796 - val_acc: 0.8450\n",
      "Epoch 8/20\n",
      "53/53 [==============================] - 52s 986ms/step - loss: 0.2587 - acc: 0.8972 - val_loss: 0.3925 - val_acc: 0.8341\n",
      "Epoch 9/20\n",
      "53/53 [==============================] - 52s 980ms/step - loss: 0.2505 - acc: 0.8998 - val_loss: 0.3965 - val_acc: 0.8462\n",
      "Epoch 10/20\n",
      "53/53 [==============================] - 52s 975ms/step - loss: 0.2260 - acc: 0.9067 - val_loss: 0.3917 - val_acc: 0.8510\n",
      "Epoch 11/20\n",
      "53/53 [==============================] - 52s 973ms/step - loss: 0.2199 - acc: 0.9101 - val_loss: 0.3909 - val_acc: 0.8365\n",
      "Epoch 12/20\n",
      "53/53 [==============================] - 51s 967ms/step - loss: 0.2164 - acc: 0.9169 - val_loss: 0.3781 - val_acc: 0.8654\n",
      "Epoch 13/20\n",
      "53/53 [==============================] - 50s 950ms/step - loss: 0.1859 - acc: 0.9256 - val_loss: 0.4093 - val_acc: 0.8522\n",
      "Epoch 14/20\n",
      "53/53 [==============================] - 50s 950ms/step - loss: 0.2217 - acc: 0.9178 - val_loss: 0.3877 - val_acc: 0.8618\n",
      "Epoch 15/20\n",
      "53/53 [==============================] - 50s 942ms/step - loss: 0.2022 - acc: 0.9184 - val_loss: 0.4002 - val_acc: 0.8594\n",
      "Epoch 16/20\n",
      "53/53 [==============================] - 51s 956ms/step - loss: 0.1948 - acc: 0.9241 - val_loss: 0.3753 - val_acc: 0.8582\n",
      "Epoch 17/20\n",
      "53/53 [==============================] - 51s 965ms/step - loss: 0.1682 - acc: 0.9313 - val_loss: 0.4179 - val_acc: 0.8522\n",
      "Epoch 18/20\n",
      "53/53 [==============================] - 50s 936ms/step - loss: 0.1732 - acc: 0.9285 - val_loss: 0.4526 - val_acc: 0.8618\n",
      "Epoch 19/20\n",
      "53/53 [==============================] - 51s 956ms/step - loss: 0.1929 - acc: 0.9196 - val_loss: 0.4316 - val_acc: 0.8522\n",
      "Epoch 20/20\n",
      "53/53 [==============================] - 51s 956ms/step - loss: 0.1570 - acc: 0.9360 - val_loss: 0.4482 - val_acc: 0.8630\n"
     ]
    }
   ],
   "source": [
    "history1 = model.fit_generator(batches, steps_per_epoch=3411//64, epochs=20,\n",
    "                    validation_data=val_batches, validation_steps=853//64, use_multiprocessing=True)"
   ]
  },
  {
   "cell_type": "code",
   "execution_count": 14,
   "metadata": {
    "colab": {
     "base_uri": "https://localhost:8080/",
     "height": 52
    },
    "colab_type": "code",
    "executionInfo": {
     "elapsed": 893,
     "status": "ok",
     "timestamp": 1569740493085,
     "user": {
      "displayName": "D Meirong",
      "photoUrl": "https://lh3.googleusercontent.com/a-/AAuE7mDiaGPg7iox3RNjLk5fsQm8ZIF3UAOud5pIvPtjyg=s64",
      "userId": "16646563330135327635"
     },
     "user_tz": -480
    },
    "id": "IfjGCgAmrVti",
    "outputId": "90730a76-897e-4a87-eb4b-db66c5360084"
   },
   "outputs": [
    {
     "name": "stdout",
     "output_type": "stream",
     "text": [
      "Test loss: 0.5098997400314202\n",
      "Test accuracy: 0.86035615\n"
     ]
    }
   ],
   "source": [
    "score1 = model.evaluate(X_test, y_test, verbose=0)\n",
    "print('Test loss:', score1[0])\n",
    "print('Test accuracy:', score1[1])"
   ]
  },
  {
   "cell_type": "markdown",
   "metadata": {
    "colab_type": "text",
    "id": "DKci10GRrhVq"
   },
   "source": [
    "<h2> Results </h2>"
   ]
  },
  {
   "cell_type": "code",
   "execution_count": 15,
   "metadata": {
    "colab": {
     "base_uri": "https://localhost:8080/",
     "height": 545
    },
    "colab_type": "code",
    "executionInfo": {
     "elapsed": 422,
     "status": "ok",
     "timestamp": 1569740493492,
     "user": {
      "displayName": "D Meirong",
      "photoUrl": "https://lh3.googleusercontent.com/a-/AAuE7mDiaGPg7iox3RNjLk5fsQm8ZIF3UAOud5pIvPtjyg=s64",
      "userId": "16646563330135327635"
     },
     "user_tz": -480
    },
    "id": "5_zU_zRPuUza",
    "outputId": "a7451d6a-55b3-42ef-94f6-5ac67dcdb0bb"
   },
   "outputs": [
    {
     "data": {
      "image/png": "[encoded data removed]",
      "text/plain": [
       "<Figure size 432x288 with 1 Axes>"
      ]
     },
     "metadata": {
      "tags": []
     },
     "output_type": "display_data"
    },
    {
     "data": {
      "image/png": "[encoded data removed]",
      "text/plain": [
       "<Figure size 432x288 with 1 Axes>"
      ]
     },
     "metadata": {
      "tags": []
     },
     "output_type": "display_data"
    }
   ],
   "source": [
    "#plot graphs to interpret the results (before data augmentation)\n",
    "\n",
    "accuracy_org = history.history['acc']\n",
    "val_accuracy_org = history.history['val_acc']\n",
    "loss_org = history.history['loss']\n",
    "val_loss_org = history.history['val_loss']\n",
    "epochs_org = range(len(accuracy_org))\n",
    "\n",
    "plt.plot(epochs_org, accuracy_org, 'bo', label='Training accuracy (before data augmentation)')\n",
    "plt.plot(epochs_org, val_accuracy_org, 'b', label='Validation accuracy (before data augmentation)')\n",
    "plt.title('Training and validation accuracy')\n",
    "plt.legend()\n",
    "plt.figure()\n",
    "\n",
    "plt.plot(epochs_org, loss_org, 'bo', label='Training loss (before data augmentation)')\n",
    "plt.plot(epochs_org, val_loss_org, 'b', label='Validation loss (before data augmentation)')\n",
    "plt.title('Training and validation loss')\n",
    "plt.legend()\n",
    "plt.show()"
   ]
  },
  {
   "cell_type": "code",
   "execution_count": 16,
   "metadata": {
    "colab": {
     "base_uri": "https://localhost:8080/",
     "height": 545
    },
    "colab_type": "code",
    "executionInfo": {
     "elapsed": 606,
     "status": "ok",
     "timestamp": 1569740494080,
     "user": {
      "displayName": "D Meirong",
      "photoUrl": "https://lh3.googleusercontent.com/a-/AAuE7mDiaGPg7iox3RNjLk5fsQm8ZIF3UAOud5pIvPtjyg=s64",
      "userId": "16646563330135327635"
     },
     "user_tz": -480
    },
    "id": "O10Evkgore7t",
    "outputId": "8d1bf861-38a9-4226-d2c4-84ae2dfc6ae4"
   },
   "outputs": [
    {
     "data": {
      "image/png": "[encoded data removed]",
      "text/plain": [
       "<Figure size 432x288 with 1 Axes>"
      ]
     },
     "metadata": {
      "tags": []
     },
     "output_type": "display_data"
    },
    {
     "data": {
      "image/png": "[encoded data removed]",
      "text/plain": [
       "<Figure size 432x288 with 1 Axes>"
      ]
     },
     "metadata": {
      "tags": []
     },
     "output_type": "display_data"
    }
   ],
   "source": [
    "#plot graphs to interpret the results (after data augmentation)\n",
    "\n",
    "accuracy = history1.history['acc']\n",
    "val_accuracy = history1.history['val_acc']\n",
    "loss = history1.history['loss']\n",
    "val_loss = history1.history['val_loss']\n",
    "epochs = range(len(accuracy))\n",
    "\n",
    "plt.plot(epochs, accuracy, 'bo', label='Training accuracy')\n",
    "plt.plot(epochs, val_accuracy, 'b', label='Validation accuracy')\n",
    "plt.title('Training and validation accuracy')\n",
    "plt.legend()\n",
    "plt.figure()\n",
    "\n",
    "plt.plot(epochs, loss, 'bo', label='Training loss')\n",
    "plt.plot(epochs, val_loss, 'b', label='Validation loss')\n",
    "plt.title('Training and validation loss')\n",
    "plt.legend()\n",
    "plt.show()"
   ]
  },
  {
   "cell_type": "markdown",
   "metadata": {
    "colab_type": "text",
    "id": "105E68jCwamy"
   },
   "source": [
    "<p> Data Augumentation reduces overfitting </p>"
   ]
  },
  {
   "cell_type": "markdown",
   "metadata": {
    "colab_type": "text",
    "id": "7hH0PUi3r1zX"
   },
   "source": [
    "<h2> Classification Results </h2>"
   ]
  },
  {
   "cell_type": "code",
   "execution_count": 17,
   "metadata": {
    "colab": {
     "base_uri": "https://localhost:8080/",
     "height": 230
    },
    "colab_type": "code",
    "executionInfo": {
     "elapsed": 1706,
     "status": "ok",
     "timestamp": 1569740495773,
     "user": {
      "displayName": "D Meirong",
      "photoUrl": "https://lh3.googleusercontent.com/a-/AAuE7mDiaGPg7iox3RNjLk5fsQm8ZIF3UAOud5pIvPtjyg=s64",
      "userId": "16646563330135327635"
     },
     "user_tz": -480
    },
    "id": "3fPhaizMryxw",
    "outputId": "d7e730fc-1540-4acd-9a3e-b8a69bbe872d"
   },
   "outputs": [
    {
     "name": "stdout",
     "output_type": "stream",
     "text": [
      "Best accuracy (on testing dataset): 86.04%\n",
      "              precision    recall  f1-score   support\n",
      "\n",
      "      flower     0.8961    0.7599    0.8224       454\n",
      "  non-flower     0.8402    0.9347    0.8849       613\n",
      "\n",
      "    accuracy                         0.8604      1067\n",
      "   macro avg     0.8681    0.8473    0.8537      1067\n",
      "weighted avg     0.8640    0.8604    0.8583      1067\n",
      "\n",
      "[[345 109]\n",
      " [ 40 573]]\n"
     ]
    }
   ],
   "source": [
    "# Make classification on the test dataset\n",
    "predicts    = model.predict(X_test)\n",
    "\n",
    "# Prepare the classification output\n",
    "# for the classification report\n",
    "predout     = np.argmax(predicts,axis=1)\n",
    "testout     = np.argmax(y_test,axis=1)\n",
    "\n",
    "# the labels for the classfication report\n",
    "labelname   = ['flower', 'non-flower']\n",
    "\n",
    "\n",
    "testScores  = metrics.accuracy_score(testout,predout)\n",
    "confusion   = metrics.confusion_matrix(testout,predout)\n",
    "\n",
    "\n",
    "print(\"Best accuracy (on testing dataset): %.2f%%\" % (testScores*100))\n",
    "print(metrics.classification_report(testout,predout,target_names=labelname,digits=4))\n",
    "print(confusion)"
   ]
  },
  {
   "cell_type": "markdown",
   "metadata": {
    "colab_type": "text",
    "id": "ZX2V824Z6me-"
   },
   "source": [
    "To combat overfititng, I add a Dropout layer as the 3rd layer, a powerful regularization technique. Dropout is the method used to reduce overfitting. It forces the model to learn multiple independent representations of the same data by randomly disabling neurons in the learning phase. In this model, dropout will randomnly disable 20% of the neurons."
   ]
  },
  {
   "cell_type": "markdown",
   "metadata": {
    "colab_type": "text",
    "id": "d672jULixeUu"
   },
   "source": [
    "<p> Dropout is a regularization technique, and is most effective at preventing overfitting. <b> However, there are several places when dropout can hurt performance.</b>\n",
    " \n",
    "1.   Right before the last layer. This is generally a bad place to apply dropout, because the network has no ability to \"correct\" errors induced by dropout before the classification happens. <br>\n",
    "  \n",
    "2.   When the network is small relative to the dataset, regularization is usually unnecessary. If the model capacity is already low, lowering it further by adding regularization will hurt performance. I noticed most of your networks were relatively small and shallow. <br>\n",
    "  \n",
    "3.  When training time is limited.Usually dropout hurts performance at the start of training, but results in the final ''converged'' error being lower. Therefore, if we don't plan to train until convergence, you may not want to use dropout.  </p>"
   ]
  }
 ],
 "metadata": {
  "accelerator": "GPU",
  "colab": {
   "collapsed_sections": [],
   "name": "1.1 CNN_Base_Validation.ipynb",
   "provenance": []
  },
  "kernelspec": {
   "display_name": "Python 3",
   "language": "python",
   "name": "python3"
  },
  "language_info": {
   "codemirror_mode": {
    "name": "ipython",
    "version": 3
   },
   "file_extension": ".py",
   "mimetype": "text/x-python",
   "name": "python",
   "nbconvert_exporter": "python",
   "pygments_lexer": "ipython3",
   "version": "3.7.4"
  }
 },
 "nbformat": 4,
 "nbformat_minor": 1
}
